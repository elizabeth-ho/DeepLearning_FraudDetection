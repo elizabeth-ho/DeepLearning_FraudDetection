{
 "cells": [
  {
   "cell_type": "code",
   "execution_count": 1,
   "metadata": {},
   "outputs": [],
   "source": [
    "import pandas as pd\n",
    "import numpy as np\n",
    "import matplotlib.pyplot as plt\n",
    "data = pd.read_csv('AuditDataCleaned.csv')"
   ]
  },
  {
   "cell_type": "code",
   "execution_count": 2,
   "metadata": {},
   "outputs": [
    {
     "data": {
      "text/plain": [
       "(776, 30)"
      ]
     },
     "execution_count": 2,
     "metadata": {},
     "output_type": "execute_result"
    }
   ],
   "source": [
    "data.shape"
   ]
  },
  {
   "cell_type": "code",
   "execution_count": 3,
   "metadata": {},
   "outputs": [
    {
     "data": {
      "text/html": [
       "<div>\n",
       "<style scoped>\n",
       "    .dataframe tbody tr th:only-of-type {\n",
       "        vertical-align: middle;\n",
       "    }\n",
       "\n",
       "    .dataframe tbody tr th {\n",
       "        vertical-align: top;\n",
       "    }\n",
       "\n",
       "    .dataframe thead th {\n",
       "        text-align: right;\n",
       "    }\n",
       "</style>\n",
       "<table border=\"1\" class=\"dataframe\">\n",
       "  <thead>\n",
       "    <tr style=\"text-align: right;\">\n",
       "      <th></th>\n",
       "      <th>Sector_score</th>\n",
       "      <th>PARA_A</th>\n",
       "      <th>Score_A</th>\n",
       "      <th>Risk_A</th>\n",
       "      <th>PARA_B</th>\n",
       "      <th>Score_B</th>\n",
       "      <th>Risk_B</th>\n",
       "      <th>TOTAL</th>\n",
       "      <th>numbers</th>\n",
       "      <th>Score_B.1</th>\n",
       "      <th>...</th>\n",
       "      <th>Inherent_Risk</th>\n",
       "      <th>CONTROL_RISK</th>\n",
       "      <th>Audit_Risk</th>\n",
       "      <th>Risk</th>\n",
       "      <th>Marks</th>\n",
       "      <th>MONEY_Marks</th>\n",
       "      <th>Loss</th>\n",
       "      <th>LOSS_SCORE</th>\n",
       "      <th>History_score</th>\n",
       "      <th>T_Risk</th>\n",
       "    </tr>\n",
       "  </thead>\n",
       "  <tbody>\n",
       "    <tr>\n",
       "      <td>0</td>\n",
       "      <td>3.89</td>\n",
       "      <td>4.18</td>\n",
       "      <td>0.6</td>\n",
       "      <td>2.508</td>\n",
       "      <td>2.50</td>\n",
       "      <td>0.2</td>\n",
       "      <td>0.500</td>\n",
       "      <td>6.68</td>\n",
       "      <td>5.0</td>\n",
       "      <td>0.2</td>\n",
       "      <td>...</td>\n",
       "      <td>8.574</td>\n",
       "      <td>0.4</td>\n",
       "      <td>1.7148</td>\n",
       "      <td>1</td>\n",
       "      <td>2</td>\n",
       "      <td>2</td>\n",
       "      <td>0</td>\n",
       "      <td>2</td>\n",
       "      <td>2</td>\n",
       "      <td>1</td>\n",
       "    </tr>\n",
       "    <tr>\n",
       "      <td>1</td>\n",
       "      <td>3.89</td>\n",
       "      <td>0.00</td>\n",
       "      <td>0.2</td>\n",
       "      <td>0.000</td>\n",
       "      <td>4.83</td>\n",
       "      <td>0.2</td>\n",
       "      <td>0.966</td>\n",
       "      <td>4.83</td>\n",
       "      <td>5.0</td>\n",
       "      <td>0.2</td>\n",
       "      <td>...</td>\n",
       "      <td>2.554</td>\n",
       "      <td>0.4</td>\n",
       "      <td>0.5108</td>\n",
       "      <td>0</td>\n",
       "      <td>2</td>\n",
       "      <td>2</td>\n",
       "      <td>0</td>\n",
       "      <td>2</td>\n",
       "      <td>2</td>\n",
       "      <td>0</td>\n",
       "    </tr>\n",
       "    <tr>\n",
       "      <td>2</td>\n",
       "      <td>3.89</td>\n",
       "      <td>0.51</td>\n",
       "      <td>0.2</td>\n",
       "      <td>0.102</td>\n",
       "      <td>0.23</td>\n",
       "      <td>0.2</td>\n",
       "      <td>0.046</td>\n",
       "      <td>0.74</td>\n",
       "      <td>5.0</td>\n",
       "      <td>0.2</td>\n",
       "      <td>...</td>\n",
       "      <td>1.548</td>\n",
       "      <td>0.4</td>\n",
       "      <td>0.3096</td>\n",
       "      <td>0</td>\n",
       "      <td>2</td>\n",
       "      <td>2</td>\n",
       "      <td>0</td>\n",
       "      <td>2</td>\n",
       "      <td>2</td>\n",
       "      <td>0</td>\n",
       "    </tr>\n",
       "    <tr>\n",
       "      <td>3</td>\n",
       "      <td>3.89</td>\n",
       "      <td>0.00</td>\n",
       "      <td>0.2</td>\n",
       "      <td>0.000</td>\n",
       "      <td>10.80</td>\n",
       "      <td>0.6</td>\n",
       "      <td>6.480</td>\n",
       "      <td>10.80</td>\n",
       "      <td>6.0</td>\n",
       "      <td>0.6</td>\n",
       "      <td>...</td>\n",
       "      <td>17.530</td>\n",
       "      <td>0.4</td>\n",
       "      <td>3.5060</td>\n",
       "      <td>1</td>\n",
       "      <td>6</td>\n",
       "      <td>6</td>\n",
       "      <td>0</td>\n",
       "      <td>2</td>\n",
       "      <td>2</td>\n",
       "      <td>1</td>\n",
       "    </tr>\n",
       "    <tr>\n",
       "      <td>4</td>\n",
       "      <td>3.89</td>\n",
       "      <td>0.00</td>\n",
       "      <td>0.2</td>\n",
       "      <td>0.000</td>\n",
       "      <td>0.08</td>\n",
       "      <td>0.2</td>\n",
       "      <td>0.016</td>\n",
       "      <td>0.08</td>\n",
       "      <td>5.0</td>\n",
       "      <td>0.2</td>\n",
       "      <td>...</td>\n",
       "      <td>1.416</td>\n",
       "      <td>0.4</td>\n",
       "      <td>0.2832</td>\n",
       "      <td>0</td>\n",
       "      <td>2</td>\n",
       "      <td>2</td>\n",
       "      <td>0</td>\n",
       "      <td>2</td>\n",
       "      <td>2</td>\n",
       "      <td>0</td>\n",
       "    </tr>\n",
       "  </tbody>\n",
       "</table>\n",
       "<p>5 rows × 30 columns</p>\n",
       "</div>"
      ],
      "text/plain": [
       "   Sector_score  PARA_A  Score_A  Risk_A  PARA_B  Score_B  Risk_B  TOTAL  \\\n",
       "0          3.89    4.18      0.6   2.508    2.50      0.2   0.500   6.68   \n",
       "1          3.89    0.00      0.2   0.000    4.83      0.2   0.966   4.83   \n",
       "2          3.89    0.51      0.2   0.102    0.23      0.2   0.046   0.74   \n",
       "3          3.89    0.00      0.2   0.000   10.80      0.6   6.480  10.80   \n",
       "4          3.89    0.00      0.2   0.000    0.08      0.2   0.016   0.08   \n",
       "\n",
       "   numbers  Score_B.1  ...  Inherent_Risk  CONTROL_RISK  Audit_Risk  Risk  \\\n",
       "0      5.0        0.2  ...          8.574           0.4      1.7148     1   \n",
       "1      5.0        0.2  ...          2.554           0.4      0.5108     0   \n",
       "2      5.0        0.2  ...          1.548           0.4      0.3096     0   \n",
       "3      6.0        0.6  ...         17.530           0.4      3.5060     1   \n",
       "4      5.0        0.2  ...          1.416           0.4      0.2832     0   \n",
       "\n",
       "   Marks  MONEY_Marks  Loss  LOSS_SCORE  History_score  T_Risk  \n",
       "0      2            2     0           2              2       1  \n",
       "1      2            2     0           2              2       0  \n",
       "2      2            2     0           2              2       0  \n",
       "3      6            6     0           2              2       1  \n",
       "4      2            2     0           2              2       0  \n",
       "\n",
       "[5 rows x 30 columns]"
      ]
     },
     "execution_count": 3,
     "metadata": {},
     "output_type": "execute_result"
    }
   ],
   "source": [
    "data.head()"
   ]
  },
  {
   "cell_type": "code",
   "execution_count": 4,
   "metadata": {},
   "outputs": [],
   "source": [
    "# set target value, drop Audit_Risk to prevent data leakage  gapminder_ocean.drop([70,71],axis=0)\n",
    "X = data.drop(['Risk', 'Audit_Risk'], axis=1)\n",
    "y = data['Risk']"
   ]
  },
  {
   "cell_type": "code",
   "execution_count": 5,
   "metadata": {},
   "outputs": [],
   "source": [
    "from sklearn.model_selection import train_test_split\n",
    "\n",
    "# split data into train and test set\n",
    "X_train_org, X_test_org, y_train, y_test = train_test_split(X, y, random_state=0)"
   ]
  },
  {
   "cell_type": "code",
   "execution_count": 6,
   "metadata": {},
   "outputs": [],
   "source": [
    "# Use MinMaxScaler for classificaion problems. \n",
    "from sklearn.preprocessing import MinMaxScaler\n",
    "\n",
    "scaler = MinMaxScaler() #instantiate\n",
    "X_train = scaler.fit_transform(X_train_org)\n",
    "X_test = scaler.transform(X_test_org)"
   ]
  },
  {
   "cell_type": "code",
   "execution_count": 7,
   "metadata": {},
   "outputs": [],
   "source": [
    "from tensorflow.keras.models import Sequential\n",
    "from tensorflow.keras.layers import Dense\n",
    "from tensorflow.keras.wrappers.scikit_learn import KerasClassifier\n",
    "from sklearn.model_selection import GridSearchCV\n",
    "np.random.seed(0)"
   ]
  },
  {
   "cell_type": "code",
   "execution_count": 9,
   "metadata": {},
   "outputs": [],
   "source": [
    "def create_model():\n",
    "    #create model\n",
    "    model = Sequential()\n",
    "    model.add(Dense(16,input_dim=28,activation='relu'))\n",
    "    model.add(Dense(8,activation='relu'))\n",
    "    model.add(Dense(1,activation='sigmoid'))\n",
    "    #compile model\n",
    "    model.compile(loss='binary_crossentropy',optimizer='adam',metrics=['accuracy'])\n",
    "    return model"
   ]
  },
  {
   "cell_type": "code",
   "execution_count": 10,
   "metadata": {},
   "outputs": [],
   "source": [
    "model=KerasClassifier(build_fn=create_model,verbose =0) #original"
   ]
  },
  {
   "cell_type": "code",
   "execution_count": 11,
   "metadata": {},
   "outputs": [],
   "source": [
    "param_grid = {'batch_size': [10,20,30,40],'epochs':[10,50,100]}\n",
    "grid_search = GridSearchCV(estimator= model,param_grid=param_grid, cv=5)"
   ]
  },
  {
   "cell_type": "code",
   "execution_count": 12,
   "metadata": {},
   "outputs": [
    {
     "name": "stdout",
     "output_type": "stream",
     "text": [
      "WARNING:tensorflow:From C:\\Users\\eliza\\Anaconda3\\lib\\site-packages\\tensorflow\\python\\ops\\init_ops.py:1251: calling VarianceScaling.__init__ (from tensorflow.python.ops.init_ops) with dtype is deprecated and will be removed in a future version.\n",
      "Instructions for updating:\n",
      "Call initializer instance with the dtype argument instead of passing it to the constructor\n",
      "WARNING:tensorflow:From C:\\Users\\eliza\\Anaconda3\\lib\\site-packages\\tensorflow\\python\\ops\\nn_impl.py:180: add_dispatch_support.<locals>.wrapper (from tensorflow.python.ops.array_ops) is deprecated and will be removed in a future version.\n",
      "Instructions for updating:\n",
      "Use tf.where in 2.0, which has the same broadcast rule as np.where\n"
     ]
    }
   ],
   "source": [
    "grid_search_result = grid_search.fit(X_train,y_train) "
   ]
  },
  {
   "cell_type": "code",
   "execution_count": 13,
   "metadata": {},
   "outputs": [
    {
     "name": "stdout",
     "output_type": "stream",
     "text": [
      "Best parameters: {'batch_size': 10, 'epochs': 100}\n",
      "Best cross-validation score: 0.98\n"
     ]
    }
   ],
   "source": [
    "print(\"Best parameters: {}\".format(grid_search.best_params_))\n",
    "print(\"Best cross-validation score: {:.2f}\".format(grid_search.best_score_))"
   ]
  },
  {
   "cell_type": "code",
   "execution_count": 14,
   "metadata": {},
   "outputs": [
    {
     "data": {
      "text/plain": [
       "<tensorflow.python.keras.callbacks.History at 0x24a3e038448>"
      ]
     },
     "execution_count": 14,
     "metadata": {},
     "output_type": "execute_result"
    }
   ],
   "source": [
    "#fit the model\n",
    "model.fit(X_train,y_train,epochs=100,batch_size=10)"
   ]
  },
  {
   "cell_type": "code",
   "execution_count": 15,
   "metadata": {},
   "outputs": [
    {
     "name": "stdout",
     "output_type": "stream",
     "text": [
      "Epoch 1/100\n",
      "582/582 [==============================] - 2s 4ms/sample - loss: 0.6523 - acc: 0.6735\n",
      "Epoch 2/100\n",
      "582/582 [==============================] - 1s 1ms/sample - loss: 0.5527 - acc: 0.8368\n",
      "Epoch 3/100\n",
      "582/582 [==============================] - 0s 851us/sample - loss: 0.4448 - acc: 0.8797\n",
      "Epoch 4/100\n",
      "582/582 [==============================] - 1s 1ms/sample - loss: 0.3428 - acc: 0.9124\n",
      "Epoch 5/100\n",
      "582/582 [==============================] - 1s 1ms/sample - loss: 0.2692 - acc: 0.9158\n",
      "Epoch 6/100\n",
      "582/582 [==============================] - 1s 1ms/sample - loss: 0.2160 - acc: 0.9261\n",
      "Epoch 7/100\n",
      "582/582 [==============================] - 1s 1ms/sample - loss: 0.1800 - acc: 0.9519\n",
      "Epoch 8/100\n",
      "582/582 [==============================] - 0s 801us/sample - loss: 0.1595 - acc: 0.9364\n",
      "Epoch 9/100\n",
      "582/582 [==============================] - 0s 648us/sample - loss: 0.1398 - acc: 0.9502\n",
      "Epoch 10/100\n",
      "582/582 [==============================] - 1s 900us/sample - loss: 0.1277 - acc: 0.9519\n",
      "Epoch 11/100\n",
      "582/582 [==============================] - 1s 888us/sample - loss: 0.1218 - acc: 0.9622\n",
      "Epoch 12/100\n",
      "582/582 [==============================] - 1s 1ms/sample - loss: 0.1114 - acc: 0.9588\n",
      "Epoch 13/100\n",
      "582/582 [==============================] - 1s 1ms/sample - loss: 0.1070 - acc: 0.9605\n",
      "Epoch 14/100\n",
      "582/582 [==============================] - 1s 957us/sample - loss: 0.1012 - acc: 0.9622\n",
      "Epoch 15/100\n",
      "582/582 [==============================] - 1s 1ms/sample - loss: 0.0946 - acc: 0.9622\n",
      "Epoch 16/100\n",
      "582/582 [==============================] - 1s 2ms/sample - loss: 0.0919 - acc: 0.9622\n",
      "Epoch 17/100\n",
      "582/582 [==============================] - 1s 949us/sample - loss: 0.0895 - acc: 0.9639\n",
      "Epoch 18/100\n",
      "582/582 [==============================] - 1s 876us/sample - loss: 0.0851 - acc: 0.9674\n",
      "Epoch 19/100\n",
      "582/582 [==============================] - 1s 1ms/sample - loss: 0.0835 - acc: 0.9691\n",
      "Epoch 20/100\n",
      "582/582 [==============================] - 1s 2ms/sample - loss: 0.0796 - acc: 0.9708\n",
      "Epoch 21/100\n",
      "582/582 [==============================] - 0s 696us/sample - loss: 0.0786 - acc: 0.9656\n",
      "Epoch 22/100\n",
      "582/582 [==============================] - 0s 747us/sample - loss: 0.0762 - acc: 0.9691\n",
      "Epoch 23/100\n",
      "582/582 [==============================] - 1s 1ms/sample - loss: 0.0754 - acc: 0.9708\n",
      "Epoch 24/100\n",
      "582/582 [==============================] - 1s 897us/sample - loss: 0.0717 - acc: 0.9742\n",
      "Epoch 25/100\n",
      "582/582 [==============================] - 0s 849us/sample - loss: 0.0723 - acc: 0.9674\n",
      "Epoch 26/100\n",
      "582/582 [==============================] - 0s 805us/sample - loss: 0.0694 - acc: 0.9759\n",
      "Epoch 27/100\n",
      "582/582 [==============================] - 0s 797us/sample - loss: 0.0684 - acc: 0.9777\n",
      "Epoch 28/100\n",
      "582/582 [==============================] - 1s 940us/sample - loss: 0.0664 - acc: 0.9725\n",
      "Epoch 29/100\n",
      "582/582 [==============================] - 0s 825us/sample - loss: 0.0648 - acc: 0.9725\n",
      "Epoch 30/100\n",
      "582/582 [==============================] - 1s 1ms/sample - loss: 0.0647 - acc: 0.9742\n",
      "Epoch 31/100\n",
      "582/582 [==============================] - 0s 674us/sample - loss: 0.0632 - acc: 0.9725\n",
      "Epoch 32/100\n",
      "582/582 [==============================] - 0s 780us/sample - loss: 0.0603 - acc: 0.9777\n",
      "Epoch 33/100\n",
      "582/582 [==============================] - 1s 1ms/sample - loss: 0.0596 - acc: 0.9777\n",
      "Epoch 34/100\n",
      "582/582 [==============================] - 0s 744us/sample - loss: 0.0589 - acc: 0.9742\n",
      "Epoch 35/100\n",
      "582/582 [==============================] - 1s 1ms/sample - loss: 0.0591 - acc: 0.9777\n",
      "Epoch 36/100\n",
      "582/582 [==============================] - 0s 656us/sample - loss: 0.0555 - acc: 0.9794\n",
      "Epoch 37/100\n",
      "582/582 [==============================] - 0s 615us/sample - loss: 0.0572 - acc: 0.9759\n",
      "Epoch 38/100\n",
      "582/582 [==============================] - 0s 667us/sample - loss: 0.0548 - acc: 0.9777\n",
      "Epoch 39/100\n",
      "582/582 [==============================] - 1s 940us/sample - loss: 0.0535 - acc: 0.9777\n",
      "Epoch 40/100\n",
      "582/582 [==============================] - 1s 985us/sample - loss: 0.0513 - acc: 0.9777\n",
      "Epoch 41/100\n",
      "582/582 [==============================] - 1s 998us/sample - loss: 0.0528 - acc: 0.9777\n",
      "Epoch 42/100\n",
      "582/582 [==============================] - 0s 737us/sample - loss: 0.0499 - acc: 0.9777\n",
      "Epoch 43/100\n",
      "582/582 [==============================] - 0s 584us/sample - loss: 0.0493 - acc: 0.9794\n",
      "Epoch 44/100\n",
      "582/582 [==============================] - 0s 629us/sample - loss: 0.0488 - acc: 0.9811\n",
      "Epoch 45/100\n",
      "582/582 [==============================] - 1s 1ms/sample - loss: 0.0474 - acc: 0.9811\n",
      "Epoch 46/100\n",
      "582/582 [==============================] - 0s 782us/sample - loss: 0.0451 - acc: 0.9794\n",
      "Epoch 47/100\n",
      "582/582 [==============================] - 0s 840us/sample - loss: 0.0456 - acc: 0.9845\n",
      "Epoch 48/100\n",
      "582/582 [==============================] - 0s 735us/sample - loss: 0.0440 - acc: 0.9811\n",
      "Epoch 49/100\n",
      "582/582 [==============================] - 0s 631us/sample - loss: 0.0439 - acc: 0.9794\n",
      "Epoch 50/100\n",
      "582/582 [==============================] - 0s 765us/sample - loss: 0.0425 - acc: 0.9863\n",
      "Epoch 51/100\n",
      "582/582 [==============================] - 1s 861us/sample - loss: 0.0414 - acc: 0.9794\n",
      "Epoch 52/100\n",
      "582/582 [==============================] - 1s 2ms/sample - loss: 0.0407 - acc: 0.9811\n",
      "Epoch 53/100\n",
      "582/582 [==============================] - 1s 1ms/sample - loss: 0.0399 - acc: 0.9811\n",
      "Epoch 54/100\n",
      "582/582 [==============================] - 1s 1ms/sample - loss: 0.0406 - acc: 0.9845\n",
      "Epoch 55/100\n",
      "582/582 [==============================] - 1s 1ms/sample - loss: 0.0396 - acc: 0.9863\n",
      "Epoch 56/100\n",
      "582/582 [==============================] - 1s 1ms/sample - loss: 0.0377 - acc: 0.9828\n",
      "Epoch 57/100\n",
      "582/582 [==============================] - 1s 1ms/sample - loss: 0.0371 - acc: 0.9880\n",
      "Epoch 58/100\n",
      "582/582 [==============================] - 1s 1ms/sample - loss: 0.0391 - acc: 0.9811\n",
      "Epoch 59/100\n",
      "582/582 [==============================] - 0s 682us/sample - loss: 0.0356 - acc: 0.9863\n",
      "Epoch 60/100\n",
      "582/582 [==============================] - 0s 789us/sample - loss: 0.0359 - acc: 0.9863\n",
      "Epoch 61/100\n",
      "582/582 [==============================] - 1s 1ms/sample - loss: 0.0352 - acc: 0.9863\n",
      "Epoch 62/100\n",
      "582/582 [==============================] - 1s 1ms/sample - loss: 0.0345 - acc: 0.9863\n",
      "Epoch 63/100\n",
      "582/582 [==============================] - 1s 887us/sample - loss: 0.0332 - acc: 0.9880\n",
      "Epoch 64/100\n",
      "582/582 [==============================] - 0s 835us/sample - loss: 0.0329 - acc: 0.9863\n",
      "Epoch 65/100\n",
      "582/582 [==============================] - 0s 653us/sample - loss: 0.0362 - acc: 0.9811\n",
      "Epoch 66/100\n",
      "582/582 [==============================] - 0s 584us/sample - loss: 0.0336 - acc: 0.9863\n",
      "Epoch 67/100\n",
      "582/582 [==============================] - 0s 489us/sample - loss: 0.0305 - acc: 0.9863\n",
      "Epoch 68/100\n",
      "582/582 [==============================] - 0s 641us/sample - loss: 0.0308 - acc: 0.9880\n",
      "Epoch 69/100\n",
      "582/582 [==============================] - 0s 502us/sample - loss: 0.0299 - acc: 0.9863\n",
      "Epoch 70/100\n",
      "582/582 [==============================] - 0s 581us/sample - loss: 0.0307 - acc: 0.9863\n",
      "Epoch 71/100\n",
      "582/582 [==============================] - 0s 481us/sample - loss: 0.0313 - acc: 0.9863\n",
      "Epoch 72/100\n",
      "582/582 [==============================] - 0s 465us/sample - loss: 0.0291 - acc: 0.9863\n",
      "Epoch 73/100\n",
      "582/582 [==============================] - 0s 548us/sample - loss: 0.0278 - acc: 0.9897\n",
      "Epoch 74/100\n",
      "582/582 [==============================] - 0s 528us/sample - loss: 0.0261 - acc: 0.9897\n",
      "Epoch 75/100\n",
      "582/582 [==============================] - 0s 504us/sample - loss: 0.0295 - acc: 0.9863\n",
      "Epoch 76/100\n",
      "582/582 [==============================] - 0s 730us/sample - loss: 0.0275 - acc: 0.9897\n",
      "Epoch 77/100\n",
      "582/582 [==============================] - 0s 689us/sample - loss: 0.0281 - acc: 0.9931\n",
      "Epoch 78/100\n",
      "582/582 [==============================] - 0s 509us/sample - loss: 0.0327 - acc: 0.9863\n",
      "Epoch 79/100\n",
      "582/582 [==============================] - 0s 538us/sample - loss: 0.0268 - acc: 0.9880\n",
      "Epoch 80/100\n",
      "582/582 [==============================] - 0s 531us/sample - loss: 0.0259 - acc: 0.9880\n",
      "Epoch 81/100\n",
      "582/582 [==============================] - 0s 507us/sample - loss: 0.0263 - acc: 0.9897\n",
      "Epoch 82/100\n"
     ]
    },
    {
     "name": "stdout",
     "output_type": "stream",
     "text": [
      "582/582 [==============================] - 0s 458us/sample - loss: 0.0264 - acc: 0.9828\n",
      "Epoch 83/100\n",
      "582/582 [==============================] - 0s 529us/sample - loss: 0.0264 - acc: 0.9914\n",
      "Epoch 84/100\n",
      "582/582 [==============================] - 0s 431us/sample - loss: 0.0251 - acc: 0.9897\n",
      "Epoch 85/100\n",
      "582/582 [==============================] - 0s 455us/sample - loss: 0.0249 - acc: 0.9880\n",
      "Epoch 86/100\n",
      "582/582 [==============================] - 0s 465us/sample - loss: 0.0251 - acc: 0.9897\n",
      "Epoch 87/100\n",
      "582/582 [==============================] - 0s 458us/sample - loss: 0.0258 - acc: 0.9897\n",
      "Epoch 88/100\n",
      "582/582 [==============================] - 0s 452us/sample - loss: 0.0244 - acc: 0.9880\n",
      "Epoch 89/100\n",
      "582/582 [==============================] - 0s 464us/sample - loss: 0.0225 - acc: 0.9914\n",
      "Epoch 90/100\n",
      "582/582 [==============================] - 0s 488us/sample - loss: 0.0227 - acc: 0.9914\n",
      "Epoch 91/100\n",
      "582/582 [==============================] - 0s 453us/sample - loss: 0.0236 - acc: 0.9914\n",
      "Epoch 92/100\n",
      "582/582 [==============================] - 0s 465us/sample - loss: 0.0235 - acc: 0.9897\n",
      "Epoch 93/100\n",
      "582/582 [==============================] - 0s 441us/sample - loss: 0.0229 - acc: 0.9914\n",
      "Epoch 94/100\n",
      "582/582 [==============================] - 0s 451us/sample - loss: 0.0228 - acc: 0.9914\n",
      "Epoch 95/100\n",
      "582/582 [==============================] - 0s 484us/sample - loss: 0.0215 - acc: 0.9914\n",
      "Epoch 96/100\n",
      "582/582 [==============================] - 0s 441us/sample - loss: 0.0226 - acc: 0.9897\n",
      "Epoch 97/100\n",
      "582/582 [==============================] - 0s 431us/sample - loss: 0.0223 - acc: 0.9880\n",
      "Epoch 98/100\n",
      "582/582 [==============================] - 0s 450us/sample - loss: 0.0222 - acc: 0.9897\n",
      "Epoch 99/100\n",
      "582/582 [==============================] - 0s 476us/sample - loss: 0.0215 - acc: 0.9914\n",
      "Epoch 100/100\n",
      "582/582 [==============================] - 0s 439us/sample - loss: 0.0225 - acc: 0.9897\n"
     ]
    },
    {
     "data": {
      "text/plain": [
       "<tensorflow.python.keras.callbacks.History at 0x24a3e5107c8>"
      ]
     },
     "execution_count": 15,
     "metadata": {},
     "output_type": "execute_result"
    }
   ],
   "source": [
    "model = Sequential()\n",
    "model.add(Dense(16,input_dim=28,activation='relu'))\n",
    "model.add(Dense(8,activation='relu'))\n",
    "model.add(Dense(1,activation='sigmoid'))\n",
    "model.compile(loss='binary_crossentropy',optimizer='adam',metrics=['accuracy'])\n",
    "model.fit(X_train,y_train,epochs=100,batch_size=10)"
   ]
  },
  {
   "cell_type": "code",
   "execution_count": 16,
   "metadata": {},
   "outputs": [
    {
     "name": "stdout",
     "output_type": "stream",
     "text": [
      "194/194 [==============================] - 1s 3ms/sample - loss: 0.0273 - acc: 0.9897\n",
      "\n",
      "acc: 98.97%\n"
     ]
    }
   ],
   "source": [
    "#evaluate the model\n",
    "scores=model.evaluate(X_test,y_test)\n",
    "print(\"\\n%s: %.2f%%\"%(model.metrics_names[1],scores[1]*100))"
   ]
  },
  {
   "cell_type": "code",
   "execution_count": 17,
   "metadata": {},
   "outputs": [
    {
     "name": "stdout",
     "output_type": "stream",
     "text": [
      "Accuracy : 0.825\n",
      "Precision: 1.000\n",
      "Recall : 0.514\n"
     ]
    }
   ],
   "source": [
    "from sklearn.metrics import confusion_matrix\n",
    "import matplotlib.pyplot as plt\n",
    "from sklearn.metrics import precision_recall_curve, accuracy_score, precision_score, recall_score\n",
    "\n",
    "#evaluate model\n",
    "pred_grid = model.predict(X_test).astype(int)\n",
    "\n",
    "print('Accuracy : {:.3f}'.format( accuracy_score(y_test, pred_grid)))\n",
    "print('Precision: {:.3f}'.format(precision_score(y_test, pred_grid)))\n",
    "print('Recall : {:.3f}'.format( recall_score(y_test, pred_grid)))"
   ]
  },
  {
   "cell_type": "code",
   "execution_count": 18,
   "metadata": {},
   "outputs": [
    {
     "name": "stdout",
     "output_type": "stream",
     "text": [
      "Precision using Adjusted Threshold: 0.958\n",
      "Recall using Adjusted Threshold: 0.986\n"
     ]
    }
   ],
   "source": [
    "# post-processing by changing threshold\n",
    "pred = (model.predict_proba(X_test) > .15).astype(int)\n",
    "print('Precision using Adjusted Threshold: {:.3f}'.format(precision_score(y_test, pred)))\n",
    "print('Recall using Adjusted Threshold: {:.3f}'.format( recall_score(y_test, pred)))"
   ]
  }
 ],
 "metadata": {
  "kernelspec": {
   "display_name": "Python 3",
   "language": "python",
   "name": "python3"
  },
  "language_info": {
   "codemirror_mode": {
    "name": "ipython",
    "version": 3
   },
   "file_extension": ".py",
   "mimetype": "text/x-python",
   "name": "python",
   "nbconvert_exporter": "python",
   "pygments_lexer": "ipython3",
   "version": "3.7.4"
  }
 },
 "nbformat": 4,
 "nbformat_minor": 2
}
